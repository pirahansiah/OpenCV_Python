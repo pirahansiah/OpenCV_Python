{
 "cells": [
  {
   "cell_type": "markdown",
   "metadata": {},
   "source": [
    "# Farshid PirahanSiah #\n",
    "## July 2019\n",
    "### Full\n",
    "\n",
    "Ctrl + '/' comment\n",
    "\n",
    "run jupyter in admin mode"
   ]
  },
  {
   "cell_type": "code",
   "execution_count": 1,
   "metadata": {},
   "outputs": [
    {
     "name": "stdout",
     "output_type": "stream",
     "text": [
      "\u001b[31m    ERROR: Complete output from command python setup.py egg_info:\u001b[0m\n",
      "\u001b[31m    ERROR: running egg_info\n",
      "    creating pip-egg-info/dill.egg-info\n",
      "    writing pip-egg-info/dill.egg-info/PKG-INFO\n",
      "    writing dependency_links to pip-egg-info/dill.egg-info/dependency_links.txt\n",
      "    writing requirements to pip-egg-info/dill.egg-info/requires.txt\n",
      "    writing top-level names to pip-egg-info/dill.egg-info/top_level.txt\n",
      "    writing manifest file 'pip-egg-info/dill.egg-info/SOURCES.txt'\n",
      "    reading manifest file 'pip-egg-info/dill.egg-info/SOURCES.txt'\n",
      "    reading manifest template 'MANIFEST.in'\n",
      "    writing manifest file 'pip-egg-info/dill.egg-info/SOURCES.txt'\n",
      "    Traceback (most recent call last):\n",
      "      File \"<string>\", line 1, in <module>\n",
      "      File \"/tmp/pip-install-9b6msp4c/dill/setup.py\", line 305, in <module>\n",
      "        import readline\n",
      "      File \"/home/farshid/farshid/p/lib/python3.6/site-packages/readline.py\", line 6, in <module>\n",
      "        from pyreadline.rlmain import Readline\n",
      "      File \"/home/farshid/farshid/p/lib/python3.6/site-packages/pyreadline/__init__.py\", line 12, in <module>\n",
      "        from . import logger, clipboard, lineeditor, modes, console\n",
      "      File \"/home/farshid/farshid/p/lib/python3.6/site-packages/pyreadline/clipboard/__init__.py\", line 13, in <module>\n",
      "        from .win32_clipboard import GetClipboardText, SetClipboardText\n",
      "      File \"/home/farshid/farshid/p/lib/python3.6/site-packages/pyreadline/clipboard/win32_clipboard.py\", line 37, in <module>\n",
      "        import ctypes.wintypes as wintypes\n",
      "      File \"/home/farshid/farshid/p/lib/python3.6/ctypes/wintypes.py\", line 20, in <module>\n",
      "        class VARIANT_BOOL(ctypes._SimpleCData):\n",
      "    ValueError: _type_ 'v' not supported\n",
      "    ----------------------------------------\u001b[0m\n",
      "\u001b[31mERROR: Command \"python setup.py egg_info\" failed with error code 1 in /tmp/pip-install-9b6msp4c/dill/\u001b[0m\n",
      "\u001b[31m  ERROR: Could not find a version that satisfies the requirement pykiteconnect (from versions: none)\u001b[0m\n",
      "\u001b[31mERROR: No matching distribution found for pykiteconnect\u001b[0m\n",
      "\u001b[31m  ERROR: Complete output from command /home/farshid/farshid/p/bin/python /home/farshid/farshid/p/lib/python3.6/site-packages/pip install --ignore-installed --no-user --prefix /tmp/pip-build-env-37za7e28/overlay --no-warn-script-location --no-binary :none: --only-binary :none: -i https://pypi.org/simple -- 'setuptools>=40.8.0' wheel:\u001b[0m\n",
      "\u001b[31m  ERROR: Traceback (most recent call last):\n",
      "    File \"/home/farshid/farshid/p/lib/python3.6/runpy.py\", line 193, in _run_module_as_main\n",
      "      \"__main__\", mod_spec)\n",
      "    File \"/home/farshid/farshid/p/lib/python3.6/runpy.py\", line 85, in _run_code\n",
      "      exec(code, run_globals)\n",
      "    File \"/home/farshid/farshid/p/lib/python3.6/site-packages/pip/__main__.py\", line 16, in <module>\n",
      "      from pip._internal import main as _main  # isort:skip # noqa\n",
      "    File \"/home/farshid/farshid/p/lib/python3.6/site-packages/pip/_internal/__init__.py\", line 4, in <module>\n",
      "      import locale\n",
      "    File \"/home/farshid/farshid/p/lib/python3.6/locale.py\", line 16, in <module>\n",
      "      import re\n",
      "    File \"/home/farshid/farshid/p/lib/python3.6/re.py\", line 142, in <module>\n",
      "      class RegexFlag(enum.IntFlag):\n",
      "  AttributeError: module 'enum' has no attribute 'IntFlag'\n",
      "  ----------------------------------------\u001b[0m\n",
      "\u001b[31mERROR: Command \"/home/farshid/farshid/p/bin/python /home/farshid/farshid/p/lib/python3.6/site-packages/pip install --ignore-installed --no-user --prefix /tmp/pip-build-env-37za7e28/overlay --no-warn-script-location --no-binary :none: --only-binary :none: -i https://pypi.org/simple -- 'setuptools>=40.8.0' wheel\" failed with error code 1 in None\u001b[0m\n",
      "The tensorboard module is not an IPython extension.\n"
     ]
    }
   ],
   "source": [
    "# !python -m pip install --upgrade pip\n",
    "# TensorFlow 2\n",
    "!pip install -q tensorflow-gpu==2.0.0-beta1\n",
    "!pip install -q tensorflow_hub\n",
    "!pip install -q tensorflow_datasets\n",
    "!pip install -q jupyter-tensorboard\n",
    "# Image Processing\n",
    "!pip install -q imageio\n",
    "!pip install -q opencv-python\n",
    "!pip install -q opencv-contrib-python\n",
    "!pip install -q bokeh\n",
    "!pip install -q Pillow\n",
    "# Python\n",
    "!pip install -q pyreadline\n",
    "!pip install -q seaborn\n",
    "!pip install -q ibm-cos-sdk\n",
    "!pip install -q pykiteconnect \n",
    "!pip install -q --upgrade kiteconnect\n",
    "!pip install -q pyyaml requests\n",
    "!pip install -q ipython\n",
    "\n",
    "!pip install -q --user nbmultitask\n",
    "!pip install -q pyinstaller\n",
    "!pip install -q nbmultitask\n",
    "!pip install -q tqdm\n",
    "\n",
    "# commands \n",
    "##!python -m tensorboard.main --logdir=/farshid/\n",
    "##tensorboard --logdir=logs/\n",
    "%load_ext tensorboard\n",
    "%matplotlib inline \n",
    "%config IPCompleter.greedy=True\n",
    "%matplotlib notebook\n",
    "\n"
   ]
  },
  {
   "cell_type": "code",
   "execution_count": 1,
   "metadata": {},
   "outputs": [
    {
     "data": {
      "text/plain": [
       "<function tensorflow.python.framework.test_util.is_gpu_available(cuda_only=False, min_cuda_compute_capability=None)>"
      ]
     },
     "execution_count": 1,
     "metadata": {},
     "output_type": "execute_result"
    }
   ],
   "source": [
    "import datetime\n",
    "\n",
    "\n",
    "import numpy as np\n",
    "import os\n",
    "import pandas as pd\n",
    "import re\n",
    "import seaborn as sns\n",
    "\n",
    "import random\n",
    "import pickle\n",
    "\n",
    "import tqdm.auto\n",
    "from tqdm import tqdm\n",
    "\n",
    "\n",
    "\n",
    "import argparse\n",
    "import sys\n",
    "import numpy as np\n",
    "import os.path\n",
    "\n",
    "#from nbmultitask import ThreadWithLogAndControls\n",
    "\n",
    "# Image Processing\n",
    "import cv2 as cv\n",
    "from IPython.display import Image\n",
    "\n",
    "import matplotlib.pyplot as plt\n",
    "# TensorFlow 2\n",
    "import tensorflow as tf\n",
    "import tensorflow_hub as hub\n",
    "from tensorflow.keras.datasets import cifar10\n",
    "from tensorflow.keras.preprocessing.image import ImageDataGenerator\n",
    "from tensorflow.keras.models import Sequential\n",
    "from tensorflow.keras.layers import Dense, Dropout, Activation, Flatten\n",
    "from tensorflow.keras.layers import Conv2D, MaxPooling2D\n",
    "from tensorflow.keras.callbacks import TensorBoard\n",
    "from tensorflow.python.ops.array_ops import placeholder\n",
    "from tensorflow.python.training.gradient_descent import GradientDescentOptimizer\n",
    "from tensorflow.python.summary.writer.writer import FileWriter\n",
    "\n",
    "tf.compat.v1.disable_eager_execution()\n",
    "#tf.debugging.set_log_device_placement(True)\n"
   ]
  },
  {
   "cell_type": "code",
   "execution_count": 13,
   "metadata": {},
   "outputs": [
    {
     "data": {
      "text/plain": [
       "'4.1.0'"
      ]
     },
     "execution_count": 13,
     "metadata": {},
     "output_type": "execute_result"
    }
   ],
   "source": [
    "# from numba import cuda\n",
    "# len(cuda.gpus)\n",
    "# cuda.gpus[0].name\n",
    "\n",
    "# !watch -n 2 nvidia-smi\n",
    "cv.__version__\n",
    "#tf.__version__\n",
    "#tf.test.is_gpu_available\n",
    "# print(tf.test.is_gpu_available())\n",
    "# tf.test.is_gpu_available(cuda_only=False) \n",
    "# tf.test.gpu_device_name()\n"
   ]
  },
  {
   "cell_type": "code",
   "execution_count": 4,
   "metadata": {},
   "outputs": [
    {
     "name": "stdout",
     "output_type": "stream",
     "text": [
      "\u001b[?1l\u001b>---------------------------------------------------------------------------+\u001b[4B\u001b[1;75H9\u001b[3;19H9\u001b[11;17H8    17\u001b[11;62H26\u001b[24;80H\u001b[1;74H21\u001b[3;18H21\u001b[11;23H2\u001b[11;62H 0\u001b[24;80H\u001b[24;1H\u001b[2J\u001b[?47l\u001b8"
     ]
    }
   ],
   "source": [
    "\n"
   ]
  },
  {
   "cell_type": "code",
   "execution_count": 2,
   "metadata": {},
   "outputs": [
    {
     "name": "stdout",
     "output_type": "stream",
     "text": [
      "True\n"
     ]
    }
   ],
   "source": [
    "\n"
   ]
  },
  {
   "cell_type": "code",
   "execution_count": 11,
   "metadata": {},
   "outputs": [
    {
     "data": {
      "text/plain": [
       "True"
      ]
     },
     "execution_count": 11,
     "metadata": {},
     "output_type": "execute_result"
    }
   ],
   "source": []
  },
  {
   "cell_type": "code",
   "execution_count": 4,
   "metadata": {},
   "outputs": [
    {
     "data": {
      "text/plain": [
       "'/device:GPU:0'"
      ]
     },
     "execution_count": 4,
     "metadata": {},
     "output_type": "execute_result"
    }
   ],
   "source": []
  },
  {
   "cell_type": "code",
   "execution_count": 12,
   "metadata": {},
   "outputs": [
    {
     "data": {
      "text/plain": [
       "b'GeForce GTX 1080'"
      ]
     },
     "execution_count": 12,
     "metadata": {},
     "output_type": "execute_result"
    }
   ],
   "source": []
  },
  {
   "cell_type": "code",
   "execution_count": null,
   "metadata": {},
   "outputs": [],
   "source": []
  }
 ],
 "metadata": {
  "kernelspec": {
   "display_name": "Python 3",
   "language": "python",
   "name": "python3"
  },
  "language_info": {
   "codemirror_mode": {
    "name": "ipython",
    "version": 3
   },
   "file_extension": ".py",
   "mimetype": "text/x-python",
   "name": "python",
   "nbconvert_exporter": "python",
   "pygments_lexer": "ipython3",
   "version": "3.7.3"
  }
 },
 "nbformat": 4,
 "nbformat_minor": 2
}
