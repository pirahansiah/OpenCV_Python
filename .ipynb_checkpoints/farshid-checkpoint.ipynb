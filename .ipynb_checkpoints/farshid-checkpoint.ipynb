{
 "cells": [
  {
   "cell_type": "markdown",
   "metadata": {},
   "source": [
    "# Farshid PirahanSiah #\n",
    "## July 2019\n",
    "### Full\n",
    "\n",
    "Ctrl + '/' comment\n",
    "\n",
    "run jupyter in admin mode"
   ]
  },
  {
   "cell_type": "code",
   "execution_count": 2,
   "metadata": {},
   "outputs": [
    {
     "name": "stdout",
     "output_type": "stream",
     "text": [
      "The tensorboard extension is already loaded. To reload it, use:\n",
      "  %reload_ext tensorboard\n"
     ]
    }
   ],
   "source": [
    "# # !python -m pip install --upgrade pip\n",
    "# # TensorFlow 2\n",
    "# !pip install -q tensorflow-gpu==2.0.0-beta1\n",
    "# !pip install -q tensorflow_hub\n",
    "# !pip install -q tensorflow_datasets\n",
    "# !pip install -q jupyter-tensorboard\n",
    "# # Image Processing\n",
    "# !pip install -q imageio\n",
    "# !pip install -q opencv-python\n",
    "# !pip install -q opencv-contrib-python\n",
    "# !pip install -q bokeh\n",
    "# !pip install -q Pillow\n",
    "# # Python\n",
    "# !pip install -q pyreadline\n",
    "# !pip install -q seaborn\n",
    "# !pip install -q ibm-cos-sdk\n",
    "# !pip install -q pykiteconnect \n",
    "# !pip install -q --upgrade kiteconnect\n",
    "# !pip install -q pyyaml requests\n",
    "# !pip install -q ipython\n",
    "\n",
    "# !pip install -q --user nbmultitask\n",
    "# !pip install -q pyinstaller\n",
    "# !pip install -q nbmultitask\n",
    "# !pip install -q tqdm\n",
    "\n",
    "# commands \n",
    "##!python -m tensorboard.main --logdir=/farshid/\n",
    "##tensorboard --logdir=logs/\n",
    "%load_ext tensorboard\n",
    "%matplotlib inline \n",
    "%config IPCompleter.greedy=True\n",
    "%matplotlib notebook\n",
    "\n"
   ]
  },
  {
   "cell_type": "code",
   "execution_count": 3,
   "metadata": {},
   "outputs": [],
   "source": [
    "import datetime\n",
    "\n",
    "\n",
    "import numpy as np\n",
    "import os\n",
    "import pandas as pd\n",
    "import re\n",
    "import seaborn as sns\n",
    "\n",
    "import random\n",
    "import pickle\n",
    "\n",
    "import tqdm.auto\n",
    "from tqdm import tqdm\n",
    "\n",
    "\n",
    "\n",
    "import argparse\n",
    "import sys\n",
    "import numpy as np\n",
    "import os.path\n",
    "\n",
    "#from nbmultitask import ThreadWithLogAndControls\n",
    "\n",
    "# Image Processing\n",
    "import cv2 as cv\n",
    "from IPython.display import Image\n",
    "\n",
    "import matplotlib.pyplot as plt\n",
    "# TensorFlow 2\n",
    "import tensorflow as tf\n",
    "import tensorflow_hub as hub\n",
    "from tensorflow.keras.datasets import cifar10\n",
    "from tensorflow.keras.preprocessing.image import ImageDataGenerator\n",
    "from tensorflow.keras.models import Sequential\n",
    "from tensorflow.keras.layers import Dense, Dropout, Activation, Flatten\n",
    "from tensorflow.keras.layers import Conv2D, MaxPooling2D\n",
    "from tensorflow.keras.callbacks import TensorBoard\n",
    "from tensorflow.python.ops.array_ops import placeholder\n",
    "from tensorflow.python.training.gradient_descent import GradientDescentOptimizer\n",
    "from tensorflow.python.summary.writer.writer import FileWriter\n",
    "\n",
    "tf.compat.v1.disable_eager_execution()\n",
    "#tf.debugging.set_log_device_placement(True)\n"
   ]
  },
  {
   "cell_type": "code",
   "execution_count": 4,
   "metadata": {},
   "outputs": [
    {
     "data": {
      "text/plain": [
       "'4.1.0'"
      ]
     },
     "execution_count": 4,
     "metadata": {},
     "output_type": "execute_result"
    }
   ],
   "source": [
    "# from numba import cuda\n",
    "# len(cuda.gpus)\n",
    "# cuda.gpus[0].name\n",
    "\n",
    "# !watch -n 2 nvidia-smi\n",
    "cv.__version__\n",
    "#tf.__version__\n",
    "#tf.test.is_gpu_available\n",
    "# print(tf.test.is_gpu_available())\n",
    "# tf.test.is_gpu_available(cuda_only=False) \n",
    "# tf.test.gpu_device_name()\n"
   ]
  },
  {
   "cell_type": "code",
   "execution_count": null,
   "metadata": {},
   "outputs": [],
   "source": [
    "\n"
   ]
  },
  {
   "cell_type": "code",
   "execution_count": null,
   "metadata": {},
   "outputs": [],
   "source": [
    "\n"
   ]
  },
  {
   "cell_type": "code",
   "execution_count": null,
   "metadata": {},
   "outputs": [],
   "source": []
  },
  {
   "cell_type": "code",
   "execution_count": null,
   "metadata": {},
   "outputs": [],
   "source": []
  },
  {
   "cell_type": "code",
   "execution_count": null,
   "metadata": {},
   "outputs": [],
   "source": []
  },
  {
   "cell_type": "code",
   "execution_count": null,
   "metadata": {},
   "outputs": [],
   "source": []
  },
  {
   "cell_type": "code",
   "execution_count": null,
   "metadata": {},
   "outputs": [],
   "source": []
  }
 ],
 "metadata": {
  "kernelspec": {
   "display_name": "Python 3",
   "language": "python",
   "name": "python3"
  },
  "language_info": {
   "codemirror_mode": {
    "name": "ipython",
    "version": 3
   },
   "file_extension": ".py",
   "mimetype": "text/x-python",
   "name": "python",
   "nbconvert_exporter": "python",
   "pygments_lexer": "ipython3",
   "version": "3.7.3"
  }
 },
 "nbformat": 4,
 "nbformat_minor": 2
}
